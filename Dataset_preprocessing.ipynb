{
 "cells": [
  {
   "cell_type": "code",
   "execution_count": null,
   "id": "b252fd20-6ff8-4fa5-88c7-d0942fa4f9cc",
   "metadata": {},
   "outputs": [],
   "source": [
    "import torch\n",
    "import pandas as pd\n",
    "from sentence_transformers import SentenceTransformer\n",
    "import numpy as np\n",
    "import spacy"
   ]
  },
  {
   "cell_type": "code",
   "execution_count": null,
   "id": "efd2b0f1-2a5e-4ad7-a3c9-3869286cdd5a",
   "metadata": {},
   "outputs": [],
   "source": [
    "device_id = 4\n",
    "torch.cuda.set_device(torch.device(f'cuda:{device_id}' if torch.cuda.is_available() else 'cpu'))\n",
    "print ('Cuda device %s | %s | %s/%sGB' % (torch.cuda.current_device(), torch.cuda.get_device_name(device_id),round(torch.cuda.memory_allocated(device_id)/1024**3,1),round(torch.cuda.memory_reserved(device_id)/1024**3,1)))"
   ]
  },
  {
   "cell_type": "code",
   "execution_count": null,
   "id": "81a94ef9-1d78-49a3-9bc6-d71b767f8036",
   "metadata": {},
   "outputs": [],
   "source": [
    "nlp = spacy.load(\"en_core_web_lg\")\n",
    "\n",
    "def spacy_tokenizer(doc):\n",
    "    tokens = nlp(doc)\n",
    "    return([token.lemma_.lower() for token in tokens if (token.text.isalnum() and not token.is_stop and not token.is_punct and not token.like_num)])"
   ]
  },
  {
   "cell_type": "code",
   "execution_count": null,
   "id": "9a1aeba5-f7c2-4d6e-bcf0-e7b21264ba82",
   "metadata": {},
   "outputs": [],
   "source": [
    "article_df = pd.read_json(INPUT_FILE_NAME) "
   ]
  },
  {
   "cell_type": "code",
   "execution_count": null,
   "id": "a8c1063a-911b-4d52-afbe-7729f47acb27",
   "metadata": {},
   "outputs": [],
   "source": [
    "article_df.dropna(subset=['text','title'],inplace=True)"
   ]
  },
  {
   "cell_type": "code",
   "execution_count": null,
   "id": "32d3bd0f-c58b-4ac6-99a7-2de8f8f2aca9",
   "metadata": {
    "tags": []
   },
   "outputs": [],
   "source": [
    "article_df.columns = ['id', 'date', 'title', 'text', 'story'] # drop story column if not available"
   ]
  },
  {
   "cell_type": "code",
   "execution_count": null,
   "id": "8fd4a3ea-2f1d-45e7-9a96-dffc7791f626",
   "metadata": {
    "tags": []
   },
   "outputs": [],
   "source": [
    "article_df['sentences'] = [[t] for t in article_df.title]\n",
    "article_df['sentence_counts'] = \"\"\n",
    "article_df['sentence_tokens'] = [[spacy_tokenizer(t)] for t in article_df.title]"
   ]
  },
  {
   "cell_type": "code",
   "execution_count": null,
   "id": "7d05a798-be4a-4b4f-ba0b-aa2e638b65d0",
   "metadata": {
    "tags": []
   },
   "outputs": [],
   "source": [
    "all_sentences = []\n",
    "all_sentence_tokens = []\n",
    "for text in article_df['text'].values:\n",
    "    parsed = nlp(text)\n",
    "    sentences = []\n",
    "    sentence_tokens = []\n",
    "    for s in parsed.sents:\n",
    "        if len(s) > 1:\n",
    "            sentences.append(s.text)\n",
    "            sentence_tokens.append([token.lemma_.lower() for token in s if (token.text.isalnum() and not token.is_stop and not token.is_punct and not token.like_num)])\n",
    "    all_sentences.append(sentences)\n",
    "    all_sentence_tokens.append(sentence_tokens)"
   ]
  },
  {
   "cell_type": "code",
   "execution_count": null,
   "id": "b8fde869-f3b4-4da9-8e64-298ef0623476",
   "metadata": {},
   "outputs": [],
   "source": [
    "for i in range(len(all_sentences)):\n",
    "    article_df.at[i,'sentences'] = article_df.loc[i].sentences + all_sentences[i]\n",
    "    article_df.at[i,'sentence_tokens'] = article_df.loc[i].sentence_tokens + all_sentence_tokens[i]\n",
    "    article_df.at[i,'sentence_counts'] = len(article_df.loc[i].sentences)"
   ]
  },
  {
   "cell_type": "code",
   "execution_count": null,
   "id": "21166739-3d28-4b67-b156-7a6111ef6d9c",
   "metadata": {},
   "outputs": [],
   "source": [
    "st_model = SentenceTransformer('sentence-transformers/all-roberta-large-v1').cuda() \n",
    "#https://www.sbert.net/docs/pretrained_models.html"
   ]
  },
  {
   "cell_type": "code",
   "execution_count": null,
   "id": "85e27963-006a-4141-8533-eca92718187a",
   "metadata": {
    "scrolled": true,
    "tags": []
   },
   "outputs": [],
   "source": [
    "embeddings = []\n",
    "errors = []\n",
    "k = 0\n",
    "for sentences in article_df['sentences']:\n",
    "    try:\n",
    "        embedding = st_model.encode(sentences)\n",
    "        embeddings.append(embedding)\n",
    "    except Exception as e:\n",
    "        errors.append(k)\n",
    "        print(\"error at\", k, e)\n",
    "\n",
    "    k = k + 1\n",
    "    if k % 100 ==0:\n",
    "        print(k)"
   ]
  },
  {
   "cell_type": "code",
   "execution_count": null,
   "id": "74d29cf7-956d-404b-9c5b-d563c36b6bf9",
   "metadata": {},
   "outputs": [],
   "source": [
    "article_df['sentence_embds'] = embeddings"
   ]
  },
  {
   "cell_type": "code",
   "execution_count": null,
   "id": "b7d6f557-687b-4665-96dc-6b00b7ed2d86",
   "metadata": {},
   "outputs": [],
   "source": [
    "for (idx,row) in article_df.iterrows():\n",
    "    for n in noise_list:\n",
    "        if n in row['sentences']:\n",
    "            article_df.drop(idx, inplace = True)\n",
    "            break"
   ]
  },
  {
   "cell_type": "code",
   "execution_count": null,
   "id": "1481c0c0-44d2-4560-871c-11a29b728278",
   "metadata": {},
   "outputs": [],
   "source": [
    "article_df['date'] = [str(k)[:10] for k in article_df['date']]"
   ]
  },
  {
   "cell_type": "code",
   "execution_count": null,
   "id": "bd1b1768-898c-4ea8-894f-68eac178e954",
   "metadata": {},
   "outputs": [],
   "source": [
    "article_df.sort_values(by=['date'],inplace=True)"
   ]
  },
  {
   "cell_type": "code",
   "execution_count": null,
   "id": "1206cea3-f075-4746-a53c-ffecb6ff34b3",
   "metadata": {},
   "outputs": [],
   "source": [
    "article_df.reset_index(inplace= True, drop=True)"
   ]
  },
  {
   "cell_type": "code",
   "execution_count": null,
   "id": "2d0ac961-be22-478d-ac56-b0476e6b2845",
   "metadata": {},
   "outputs": [],
   "source": [
    "article_df['id'] = article_df.index"
   ]
  },
  {
   "cell_type": "code",
   "execution_count": null,
   "id": "1209cbf7-bd1c-4ffb-b923-bf4002429d76",
   "metadata": {},
   "outputs": [],
   "source": [
    "article_df.to_json(OUTPUT_FILE_NAME)"
   ]
  }
 ],
 "metadata": {
  "kernelspec": {
   "display_name": "Python 3",
   "language": "python",
   "name": "python3"
  },
  "language_info": {
   "codemirror_mode": {
    "name": "ipython",
    "version": 3
   },
   "file_extension": ".py",
   "mimetype": "text/x-python",
   "name": "python",
   "nbconvert_exporter": "python",
   "pygments_lexer": "ipython3",
   "version": "3.8.8"
  }
 },
 "nbformat": 4,
 "nbformat_minor": 5
}
